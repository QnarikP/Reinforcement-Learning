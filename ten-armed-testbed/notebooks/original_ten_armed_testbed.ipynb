{
 "cells": [
  {
   "cell_type": "markdown",
   "source": [
    "# 10-armed Testbed"
   ],
   "metadata": {
    "collapsed": false
   },
   "id": "cada6500ddd403c4"
  },
  {
   "cell_type": "code",
   "execution_count": 9,
   "id": "initial_id",
   "metadata": {
    "collapsed": true,
    "ExecuteTime": {
     "end_time": "2025-01-04T08:32:55.977257500Z",
     "start_time": "2025-01-04T08:32:55.927981100Z"
    }
   },
   "outputs": [],
   "source": [
    "import numpy as np\n",
    "from tqdm import trange\n",
    "import matplotlib\n",
    "import matplotlib.pyplot as plt\n",
    "\n",
    "from src.bandit import Bandit\n",
    "\n",
    "matplotlib.use('Agg')"
   ]
  },
  {
   "cell_type": "code",
   "source": [
    "def simulate(runs, times, bandits):\n",
    "    # region Summary\n",
    "    \"\"\"\n",
    "    For any learning method, we can measure its performance and behavior as it improves with experience over 1000 time steps \n",
    "    when applied to 1 of the bandit problems. This makes up 1 run. Repeating this for 2000 independent runs, each with a different \n",
    "    bandit problem, we obtained measures of the learning algorithm’s average behavior.\n",
    "    :param runs: Number of runs\n",
    "    :param times: Number of times\n",
    "    :param bandits: Bandit problems\n",
    "    :return: Optimal action count mean and reward mean\n",
    "    \"\"\"\n",
    "    # endregion Summary\n",
    "    \n",
    "    # region Body\n",
    "    \n",
    "    # Prepare a matrix filled with 0s for rewards\n",
    "    rewards = np.zeros((len(bandits), runs, times))\n",
    "    \n",
    "    # Prepare a matrix filled with 0s for optimal action counts that has the same shape as rewards matrix\n",
    "    optimal_action_counts = np.zeros(rewards.shape)\n",
    "\n",
    "    # For every bandit\n",
    "    for i, bandit in enumerate(bandits):\n",
    "        # for every run\n",
    "        for run in trange(runs):\n",
    "            # initialize bandit\n",
    "            bandit.initialize()\n",
    "            \n",
    "            # for every time step\n",
    "            for time in range(times):\n",
    "                # select an action\n",
    "                action = bandit.act()\n",
    "                \n",
    "                # get the reward\n",
    "                print(bandit.step(action).shape)\n",
    "                rewards[i, run, time] = bandit.step(action)\n",
    "                \n",
    "                # if the selected action is optimal for bandit\n",
    "                if action == bandit.optimal_action:\n",
    "                    # change the corresponding 0 in the optimal action counts matrix to 1\n",
    "                    optimal_action_counts[i, run, time] = 1\n",
    "\n",
    "    return optimal_action_counts.mean(axis=1), rewards.mean(axis=1)\n",
    "\n",
    "    # endregion Body"
   ],
   "metadata": {
    "collapsed": false,
    "ExecuteTime": {
     "end_time": "2025-03-10T08:03:18.750545Z",
     "start_time": "2025-03-10T08:03:18.714721Z"
    }
   },
   "id": "be09fd89ebd40d84",
   "outputs": [],
   "execution_count": 1
  },
  {
   "cell_type": "markdown",
   "source": [
    "## 1. Reward Distribution"
   ],
   "metadata": {
    "collapsed": false
   },
   "id": "4088366f60e51478"
  },
  {
   "cell_type": "code",
   "execution_count": 13,
   "outputs": [],
   "source": [
    "# Plot an example reward distribution\n",
    "plt.violinplot(dataset=np.random.randn(200, 10) + np.random.randn(10))\n",
    "plt.title(\"Figure 2.1\")\n",
    "plt.xlabel(\"Action\")\n",
    "plt.ylabel(\"Reward distribution\")\n",
    "plt.savefig(\"../images/figure_2_1.png\")\n",
    "plt.close()"
   ],
   "metadata": {
    "collapsed": false,
    "ExecuteTime": {
     "end_time": "2025-01-04T08:41:23.597009900Z",
     "start_time": "2025-01-04T08:41:23.380523500Z"
    }
   },
   "id": "8ed1daafa4064440"
  },
  {
   "cell_type": "markdown",
   "source": [
    "## 2. Greedy Action Selection VS ε-greedy Action Selection"
   ],
   "metadata": {
    "collapsed": false
   },
   "id": "ef67eb7574c5d2b1"
  },
  {
   "cell_type": "code",
   "execution_count": 27,
   "outputs": [],
   "source": [
    "# Create a list of epsilons with 0, 0.1 and 0.01 values\n",
    "epsilons = [0, 0.1, 0.01]\n",
    "\n",
    "# Create a list of bandits (1 bandit for every epsilon) where every bandit uses sample-average method\n",
    "bandits = [Bandit(epsilon=epsilon, use_sample_averages=True) for epsilon in epsilons]"
   ],
   "metadata": {
    "collapsed": false,
    "ExecuteTime": {
     "end_time": "2025-01-04T09:59:47.079946200Z",
     "start_time": "2025-01-04T09:59:47.028085700Z"
    }
   },
   "id": "6a180bc790c31e65"
  },
  {
   "cell_type": "code",
   "execution_count": 28,
   "outputs": [
    {
     "name": "stderr",
     "output_type": "stream",
     "text": [
      "100%|██████████| 2000/2000 [01:20<00:00, 24.74it/s]\n",
      "100%|██████████| 2000/2000 [01:32<00:00, 21.63it/s]\n",
      "100%|██████████| 2000/2000 [01:16<00:00, 26.18it/s]\n"
     ]
    }
   ],
   "source": [
    "# Define number of runs\n",
    "runs = 2000\n",
    "\n",
    "# Define number of times\n",
    "times = 1000\n",
    "\n",
    "# Simulate optimal action counts and rewards\n",
    "optimal_action_counts, rewards = simulate(runs, times, bandits)"
   ],
   "metadata": {
    "collapsed": false,
    "ExecuteTime": {
     "end_time": "2025-01-04T10:03:58.626036600Z",
     "start_time": "2025-01-04T09:59:48.861845400Z"
    }
   },
   "id": "683805477a8d4606"
  },
  {
   "cell_type": "code",
   "execution_count": 29,
   "outputs": [
    {
     "data": {
      "text/plain": "<Figure size 1000x2000 with 0 Axes>"
     },
     "execution_count": 29,
     "metadata": {},
     "output_type": "execute_result"
    }
   ],
   "source": [
    "# Plotting\n",
    "plt.figure(figsize=(10, 20))"
   ],
   "metadata": {
    "collapsed": false,
    "ExecuteTime": {
     "end_time": "2025-01-04T10:04:17.772921400Z",
     "start_time": "2025-01-04T10:04:17.743999800Z"
    }
   },
   "id": "e1a86ca5f4aefa2"
  },
  {
   "cell_type": "code",
   "execution_count": 30,
   "outputs": [
    {
     "data": {
      "text/plain": "<matplotlib.legend.Legend at 0x1c951750610>"
     },
     "execution_count": 30,
     "metadata": {},
     "output_type": "execute_result"
    }
   ],
   "source": [
    "plt.subplot(2, 1, 1)\n",
    "for epsilon, rewards in zip(epsilons, rewards):\n",
    "    plt.plot(rewards, label=\"$\\epsilon = %.02f$\" % epsilon)\n",
    "plt.title(\"Figure 2.2\")\n",
    "plt.xlabel(\"Steps\")\n",
    "plt.ylabel(\"Average reward\")\n",
    "plt.legend()"
   ],
   "metadata": {
    "collapsed": false,
    "ExecuteTime": {
     "end_time": "2025-01-04T10:04:21.030024700Z",
     "start_time": "2025-01-04T10:04:20.998764900Z"
    }
   },
   "id": "5536109f4e591e72"
  },
  {
   "cell_type": "code",
   "execution_count": 31,
   "outputs": [
    {
     "data": {
      "text/plain": "<matplotlib.legend.Legend at 0x1c95147e980>"
     },
     "execution_count": 31,
     "metadata": {},
     "output_type": "execute_result"
    }
   ],
   "source": [
    "plt.subplot(2, 1, 2)\n",
    "for epsilon, counts in zip(epsilons, optimal_action_counts):\n",
    "    plt.plot(counts, label=\"$\\epsilon = %.02f$\" % epsilon)\n",
    "plt.xlabel(\"Steps\")\n",
    "plt.ylabel(\"% Optimal action\")\n",
    "plt.legend()"
   ],
   "metadata": {
    "collapsed": false,
    "ExecuteTime": {
     "end_time": "2025-01-04T10:04:25.029275Z",
     "start_time": "2025-01-04T10:04:24.998363200Z"
    }
   },
   "id": "2e6157d53f01223f"
  },
  {
   "cell_type": "code",
   "execution_count": 32,
   "outputs": [],
   "source": [
    "plt.savefig(\"../images/figure_2_2.png\")\n",
    "plt.close()"
   ],
   "metadata": {
    "collapsed": false,
    "ExecuteTime": {
     "end_time": "2025-01-04T10:04:28.163996800Z",
     "start_time": "2025-01-04T10:04:27.689268700Z"
    }
   },
   "id": "ca9dfed4b31f4579"
  },
  {
   "cell_type": "markdown",
   "source": [
    "## 3. Optimistic Initial Values VS Realistic Initial Values"
   ],
   "metadata": {
    "collapsed": false
   },
   "id": "a0c5945f58dd0dee"
  },
  {
   "cell_type": "code",
   "execution_count": 33,
   "outputs": [],
   "source": [
    "# Create a list of 2 bandits where:\n",
    "# 1. 1st bandit: ε = 0, 𝑄_1(𝑎) = 5, 𝛼 = 0.1,\n",
    "# 2. 2nd bandit: ε = 0.1, 𝑄_1(𝑎) = 0, 𝛼 = 0.1\n",
    "bandits = [Bandit(epsilon=0, initial_action_value_estimates=5, step_size=0.1), \n",
    "           Bandit(epsilon=0.1, initial_action_value_estimates=0, step_size=0.1)]"
   ],
   "metadata": {
    "collapsed": false,
    "ExecuteTime": {
     "end_time": "2025-01-04T10:21:11.893067300Z",
     "start_time": "2025-01-04T10:21:11.867082400Z"
    }
   },
   "id": "fd2acc4c80a36c94"
  },
  {
   "cell_type": "code",
   "execution_count": 34,
   "outputs": [
    {
     "name": "stderr",
     "output_type": "stream",
     "text": [
      "100%|██████████| 2000/2000 [01:14<00:00, 26.76it/s]\n",
      "100%|██████████| 2000/2000 [01:13<00:00, 27.25it/s]\n"
     ]
    }
   ],
   "source": [
    "# Define number of runs\n",
    "runs = 2000\n",
    "\n",
    "# Define number of times\n",
    "times = 1000\n",
    "\n",
    "# Simulate optimal action counts\n",
    "optimal_action_counts, _ = simulate(runs, times, bandits)"
   ],
   "metadata": {
    "collapsed": false,
    "ExecuteTime": {
     "end_time": "2025-01-04T10:23:41.341327400Z",
     "start_time": "2025-01-04T10:21:13.163001600Z"
    }
   },
   "id": "29370c340d11df30"
  },
  {
   "cell_type": "code",
   "execution_count": 35,
   "outputs": [],
   "source": [
    "# Plotting\n",
    "plt.plot(optimal_action_counts[0], label=\"$\\epsilon = 0, Q1 = 5$\")\n",
    "plt.plot(optimal_action_counts[1], label=\"$\\epsilon = 0.1, Q1 = 0$\")\n",
    "plt.title(\"Figure 2.3\")\n",
    "plt.xlabel(\"Steps\")\n",
    "plt.ylabel(\"% Optimal action\")\n",
    "plt.legend()\n",
    "\n",
    "plt.savefig('../images/figure_2_3.png')\n",
    "plt.close()"
   ],
   "metadata": {
    "collapsed": false,
    "ExecuteTime": {
     "end_time": "2025-01-04T10:23:54.162802200Z",
     "start_time": "2025-01-04T10:23:53.884846900Z"
    }
   },
   "id": "281781647df75525"
  },
  {
   "cell_type": "markdown",
   "source": [
    "## 4. Upper-Confidence-Bound (UCB) Action Selection"
   ],
   "metadata": {
    "collapsed": false
   },
   "id": "7473708c239f1d0"
  },
  {
   "cell_type": "code",
   "execution_count": 36,
   "outputs": [],
   "source": [
    "# Create a list of 2 bandits where:\n",
    "# 1. 1st bandit: ε = 0, 𝑐 = 2, uses sample-average method,\n",
    "# 2. 2nd bandit: ε = 0.1, uses sample-average method\n",
    "bandits = [Bandit(epsilon=0, confidence_level=2, use_sample_averages=True), Bandit(epsilon=0.1, use_sample_averages=True)]"
   ],
   "metadata": {
    "collapsed": false,
    "ExecuteTime": {
     "end_time": "2025-01-04T12:55:29.777024Z",
     "start_time": "2025-01-04T12:55:29.772037700Z"
    }
   },
   "id": "3d4f74a4d8060007"
  },
  {
   "cell_type": "code",
   "execution_count": 37,
   "outputs": [
    {
     "name": "stderr",
     "output_type": "stream",
     "text": [
      "100%|██████████| 2000/2000 [01:38<00:00, 20.34it/s]\n",
      "100%|██████████| 2000/2000 [01:11<00:00, 28.16it/s]\n"
     ]
    }
   ],
   "source": [
    "# Define number of runs\n",
    "runs = 2000\n",
    "\n",
    "# Define number of times\n",
    "times = 1000\n",
    "\n",
    "# Simulate average rewards\n",
    "_, average_rewards = simulate(runs, times, bandits)"
   ],
   "metadata": {
    "collapsed": false,
    "ExecuteTime": {
     "end_time": "2025-01-04T12:58:20.111516700Z",
     "start_time": "2025-01-04T12:55:30.748255100Z"
    }
   },
   "id": "62e7500274c29541"
  },
  {
   "cell_type": "code",
   "execution_count": 39,
   "outputs": [],
   "source": [
    "# Plotting\n",
    "plt.plot(average_rewards[0], label=\"UCB $c = 2$\")\n",
    "plt.plot(average_rewards[1], label=\"ε-greedy $\\epsilon = 0.1$\")\n",
    "plt.title(\"Figure 2.4\")\n",
    "plt.xlabel(\"Steps\")\n",
    "plt.ylabel(\"Average reward\")\n",
    "plt.legend()\n",
    "\n",
    "plt.savefig(\"../images/figure_2_4.png\")\n",
    "plt.close()"
   ],
   "metadata": {
    "collapsed": false,
    "ExecuteTime": {
     "end_time": "2025-01-04T12:59:34.926514400Z",
     "start_time": "2025-01-04T12:59:34.701106200Z"
    }
   },
   "id": "1d82b0a4b3703757"
  },
  {
   "cell_type": "markdown",
   "source": [
    "## 5. Gradient Bandit Algorithms (GBA)"
   ],
   "metadata": {
    "collapsed": false
   },
   "id": "b5cb31b7d224bbba"
  },
  {
   "cell_type": "code",
   "execution_count": 40,
   "outputs": [],
   "source": [
    "# Create a list of 4 bandits where:\n",
    "# 1. 1st bandit: uses GBA, 𝛼 = 0.1, uses average reward as baseline for GBA, expects true reward of 4,\n",
    "# 2. 2nd bandit: uses GBA, 𝛼 = 0.1, doesn't use average reward as baseline for GBA, expects true reward of 4,\n",
    "# 3. 3rd bandit: uses GBA, 𝛼 = 0.4, uses average reward as baseline for GBA, expects true reward of 4,\n",
    "# 4. 4th bandit: uses GBA, 𝛼 = 0.4, doesn't use average reward as baseline for GBA, expects true reward of 4\n",
    "bandits = [Bandit(use_gradient=True, step_size=0.1, use_gradient_baseline=True, true_expected_reward=4),\n",
    "           Bandit(use_gradient=True, step_size=0.1, use_gradient_baseline=False, true_expected_reward=4),\n",
    "           Bandit(use_gradient=True, step_size=0.4, use_gradient_baseline=True, true_expected_reward=4),\n",
    "           Bandit(use_gradient=True, step_size=0.4, use_gradient_baseline=False, true_expected_reward=4)]"
   ],
   "metadata": {
    "collapsed": false,
    "ExecuteTime": {
     "end_time": "2025-01-04T13:07:14.460453Z",
     "start_time": "2025-01-04T13:07:14.434367200Z"
    }
   },
   "id": "3a8b6b872b9869fe"
  },
  {
   "cell_type": "code",
   "execution_count": 41,
   "outputs": [
    {
     "name": "stderr",
     "output_type": "stream",
     "text": [
      "100%|██████████| 2000/2000 [01:50<00:00, 18.02it/s]\n",
      "100%|██████████| 2000/2000 [02:07<00:00, 15.67it/s]\n",
      "100%|██████████| 2000/2000 [01:51<00:00, 18.01it/s]\n",
      "100%|██████████| 2000/2000 [01:57<00:00, 17.01it/s]\n"
     ]
    }
   ],
   "source": [
    "# Define number of runs\n",
    "runs = 2000\n",
    "\n",
    "# Define number of times\n",
    "times = 1000\n",
    "\n",
    "# Simulate optimal action counts\n",
    "optimal_action_counts, _ = simulate(runs, times, bandits)"
   ],
   "metadata": {
    "collapsed": false,
    "ExecuteTime": {
     "end_time": "2025-01-04T13:15:07.897694Z",
     "start_time": "2025-01-04T13:07:20.527730800Z"
    }
   },
   "id": "62e2fcc444452bda"
  },
  {
   "cell_type": "code",
   "execution_count": 42,
   "outputs": [],
   "source": [
    "# Labels\n",
    "labels = [r\"$\\alpha = 0.1$, with baseline\", r\"$\\alpha = 0.1$, without baseline\",\n",
    "          r\"$\\alpha = 0.4$, with baseline\", r\"$\\alpha = 0.4$, without baseline\"]"
   ],
   "metadata": {
    "collapsed": false,
    "ExecuteTime": {
     "end_time": "2025-01-04T13:19:26.526863600Z",
     "start_time": "2025-01-04T13:19:26.509909500Z"
    }
   },
   "id": "b87d26ec69e1c825"
  },
  {
   "cell_type": "code",
   "execution_count": 43,
   "outputs": [],
   "source": [
    "# Plotting\n",
    "for i in range(len(bandits)):\n",
    "    plt.plot(optimal_action_counts[i], label=labels[i])"
   ],
   "metadata": {
    "collapsed": false,
    "ExecuteTime": {
     "end_time": "2025-01-04T13:19:27.126192700Z",
     "start_time": "2025-01-04T13:19:27.102258Z"
    }
   },
   "id": "a144f69c74df55e9"
  },
  {
   "cell_type": "code",
   "execution_count": 44,
   "outputs": [],
   "source": [
    "plt.title(\"Figure 2.5\")\n",
    "plt.xlabel(\"Steps\")\n",
    "plt.ylabel(\"% Optimal action\")\n",
    "plt.legend()\n",
    "\n",
    "plt.savefig(\"../images/figure_2_5.png\")\n",
    "plt.close()"
   ],
   "metadata": {
    "collapsed": false,
    "ExecuteTime": {
     "end_time": "2025-01-04T13:19:30.609665600Z",
     "start_time": "2025-01-04T13:19:30.363858600Z"
    }
   },
   "id": "d06411333bdaff06"
  },
  {
   "cell_type": "markdown",
   "source": [
    "## 6. Comparison"
   ],
   "metadata": {
    "collapsed": false
   },
   "id": "be31280d71d72cba"
  },
  {
   "cell_type": "code",
   "execution_count": 45,
   "outputs": [],
   "source": [
    "labels = [\"ε-greedy\", \"GBA\", \"UCB\", r\"Greedy with optimistic initialization $\\alpha = 0.1$\"]"
   ],
   "metadata": {
    "collapsed": false,
    "ExecuteTime": {
     "end_time": "2025-01-04T13:25:32.092381100Z",
     "start_time": "2025-01-04T13:25:32.051784500Z"
    }
   },
   "id": "b498344922ddd573"
  },
  {
   "cell_type": "code",
   "execution_count": 46,
   "outputs": [],
   "source": [
    "generators = [lambda epsilon: Bandit(epsilon=epsilon, use_sample_averages=True),\n",
    "              lambda alpha: Bandit(use_gradient=True, step_size=alpha, use_gradient_baseline=True),\n",
    "              lambda confidence_level: Bandit(epsilon=0, confidence_level=confidence_level, use_sample_averages=True),\n",
    "              lambda initial_action_value_estimates: Bandit(epsilon=0, initial_action_value_estimates=initial_action_value_estimates, step_size=0.1)]"
   ],
   "metadata": {
    "collapsed": false,
    "ExecuteTime": {
     "end_time": "2025-01-04T13:26:32.022335500Z",
     "start_time": "2025-01-04T13:26:31.991379900Z"
    }
   },
   "id": "3ab890b9426fa94f"
  },
  {
   "cell_type": "code",
   "execution_count": 47,
   "outputs": [],
   "source": [
    "parameters = [np.arange(-7, -1, dtype=np.float64),\n",
    "              np.arange(-5, 2, dtype=np.float64),\n",
    "              np.arange(-4, 3, dtype=np.float64),\n",
    "              np.arange(-2, 3, dtype=np.float64)]"
   ],
   "metadata": {
    "collapsed": false,
    "ExecuteTime": {
     "end_time": "2025-01-04T13:26:36.518790400Z",
     "start_time": "2025-01-04T13:26:36.497188700Z"
    }
   },
   "id": "b8dca6b31bebf1e3"
  },
  {
   "cell_type": "code",
   "execution_count": 48,
   "outputs": [],
   "source": [
    "bandits = []\n",
    "for generator, parameter in zip(generators, parameters):\n",
    "    for param in parameter:\n",
    "        bandits.append(generator(pow(2, param)))"
   ],
   "metadata": {
    "collapsed": false,
    "ExecuteTime": {
     "end_time": "2025-01-04T13:26:37.620368500Z",
     "start_time": "2025-01-04T13:26:37.593766400Z"
    }
   },
   "id": "17f0f0f0bcff00a6"
  },
  {
   "cell_type": "code",
   "execution_count": 49,
   "outputs": [
    {
     "data": {
      "text/plain": "25"
     },
     "execution_count": 49,
     "metadata": {},
     "output_type": "execute_result"
    }
   ],
   "source": [
    "len(bandits)"
   ],
   "metadata": {
    "collapsed": false,
    "ExecuteTime": {
     "end_time": "2025-01-04T13:26:50.070923800Z",
     "start_time": "2025-01-04T13:26:50.019566600Z"
    }
   },
   "id": "2012bc30fb1c3cfe"
  },
  {
   "cell_type": "code",
   "execution_count": 50,
   "outputs": [
    {
     "name": "stderr",
     "output_type": "stream",
     "text": [
      "100%|██████████| 2000/2000 [01:11<00:00, 28.00it/s]\n",
      "100%|██████████| 2000/2000 [01:54<00:00, 17.43it/s]\n",
      "100%|██████████| 2000/2000 [01:20<00:00, 24.75it/s]\n",
      "100%|██████████| 2000/2000 [01:10<00:00, 28.36it/s]\n",
      "100%|██████████| 2000/2000 [01:07<00:00, 29.64it/s]\n",
      "100%|██████████| 2000/2000 [01:03<00:00, 31.48it/s]\n",
      "100%|██████████| 2000/2000 [01:40<00:00, 19.94it/s]\n",
      "100%|██████████| 2000/2000 [01:39<00:00, 20.17it/s]\n",
      "100%|██████████| 2000/2000 [01:39<00:00, 20.08it/s]\n",
      "100%|██████████| 2000/2000 [01:39<00:00, 20.02it/s]\n",
      "100%|██████████| 2000/2000 [01:40<00:00, 19.99it/s]\n",
      "100%|██████████| 2000/2000 [01:40<00:00, 19.91it/s]\n",
      "100%|██████████| 2000/2000 [01:39<00:00, 20.03it/s]\n",
      "100%|██████████| 2000/2000 [01:30<00:00, 22.19it/s]\n",
      "100%|██████████| 2000/2000 [01:30<00:00, 22.08it/s]\n",
      "100%|██████████| 2000/2000 [01:28<00:00, 22.52it/s]\n",
      "100%|██████████| 2000/2000 [01:29<00:00, 22.46it/s]\n",
      "100%|██████████| 2000/2000 [01:30<00:00, 22.18it/s]\n",
      "100%|██████████| 2000/2000 [01:28<00:00, 22.56it/s]\n",
      "100%|██████████| 2000/2000 [01:29<00:00, 22.45it/s]\n",
      "100%|██████████| 2000/2000 [01:10<00:00, 28.21it/s]\n",
      "100%|██████████| 2000/2000 [01:10<00:00, 28.42it/s]\n",
      "100%|██████████| 2000/2000 [01:11<00:00, 27.85it/s]\n",
      "100%|██████████| 2000/2000 [01:11<00:00, 28.12it/s]\n",
      "100%|██████████| 2000/2000 [01:10<00:00, 28.22it/s]\n"
     ]
    }
   ],
   "source": [
    "_, average_rewards = simulate(runs, times, bandits)\n",
    "rewards = np.mean(average_rewards, axis=1)"
   ],
   "metadata": {
    "collapsed": false,
    "ExecuteTime": {
     "end_time": "2025-01-04T14:04:29.854895500Z",
     "start_time": "2025-01-04T13:28:40.124595900Z"
    }
   },
   "id": "dc8236fe4b8c8db1"
  },
  {
   "cell_type": "code",
   "execution_count": 51,
   "outputs": [],
   "source": [
    "i = 0\n",
    "for label, parameter in zip(labels, parameters):\n",
    "    l = len(parameter)\n",
    "    plt.plot(parameter, rewards[i:i+l], label=label)\n",
    "    i += l"
   ],
   "metadata": {
    "collapsed": false,
    "ExecuteTime": {
     "end_time": "2025-01-04T15:50:03.071308600Z",
     "start_time": "2025-01-04T15:50:03.035451Z"
    }
   },
   "id": "bc235dd1847f9979"
  },
  {
   "cell_type": "code",
   "execution_count": 52,
   "outputs": [],
   "source": [
    "plt.title(\"Figure 2.6: Comparison\")\n",
    "plt.xlabel(\"Parameter($2^x$)\")\n",
    "plt.ylabel(\"Average reward\")\n",
    "plt.legend()\n",
    "\n",
    "plt.savefig(\"../images/figure_2_6.png\")\n",
    "plt.close()"
   ],
   "metadata": {
    "collapsed": false,
    "ExecuteTime": {
     "end_time": "2025-01-04T15:50:10.764100500Z",
     "start_time": "2025-01-04T15:50:10.541605600Z"
    }
   },
   "id": "cb6544e283f6c85d"
  }
 ],
 "metadata": {
  "kernelspec": {
   "display_name": "Python 3",
   "language": "python",
   "name": "python3"
  },
  "language_info": {
   "codemirror_mode": {
    "name": "ipython",
    "version": 2
   },
   "file_extension": ".py",
   "mimetype": "text/x-python",
   "name": "python",
   "nbconvert_exporter": "python",
   "pygments_lexer": "ipython2",
   "version": "2.7.6"
  }
 },
 "nbformat": 4,
 "nbformat_minor": 5
}
